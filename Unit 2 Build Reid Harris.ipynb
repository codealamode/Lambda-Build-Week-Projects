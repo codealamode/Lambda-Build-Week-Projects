{
 "cells": [
  {
   "cell_type": "code",
   "execution_count": 1,
   "metadata": {
    "colab": {},
    "colab_type": "code",
    "executionInfo": {
     "elapsed": 326,
     "status": "ok",
     "timestamp": 1600289343185,
     "user": {
      "displayName": "Reid Harris",
      "photoUrl": "https://lh4.googleusercontent.com/-15Bp81cByjY/AAAAAAAAAAI/AAAAAAAAAQw/i48I--FQsz8/s64/photo.jpg",
      "userId": "15184149448048387025"
     },
     "user_tz": 360
    },
    "id": "-dxF9TWk2buT"
   },
   "outputs": [],
   "source": [
    "import pandas as pd\n",
    "import numpy as np\n",
    "import matplotlib.pyplot as plt\n",
    "from mpl_toolkits.mplot3d import Axes3D\n",
    "from sklearn.utils import shuffle\n",
    "from category_encoders import OrdinalEncoder\n",
    "from sklearn.ensemble import RandomForestClassifier\n",
    "from sklearn.ensemble import AdaBoostClassifier\n",
    "from sklearn.inspection import partial_dependence\n",
    "from sklearn.inspection import plot_partial_dependence\n",
    "from sklearn.pipeline import make_pipeline\n",
    "from xgboost import XGBClassifier\n",
    "import sklearn\n",
    "import category_encoders as ce\n",
    "from sklearn.metrics import classification_report, plot_confusion_matrix, plot_roc_curve\n",
    "from pdpbox.pdp import pdp_isolate, pdp_interact, pdp_plot, pdp_interact_plot\n",
    "%matplotlib inline"
   ]
  },
  {
   "cell_type": "code",
   "execution_count": 2,
   "metadata": {
    "colab": {
     "base_uri": "https://localhost:8080/",
     "height": 997
    },
    "colab_type": "code",
    "executionInfo": {
     "elapsed": 1936,
     "status": "ok",
     "timestamp": 1600289094418,
     "user": {
      "displayName": "Reid Harris",
      "photoUrl": "https://lh4.googleusercontent.com/-15Bp81cByjY/AAAAAAAAAAI/AAAAAAAAAQw/i48I--FQsz8/s64/photo.jpg",
      "userId": "15184149448048387025"
     },
     "user_tz": 360
    },
    "id": "_af-71FNdwCb",
    "outputId": "d48429c3-f7e2-401e-aea4-552bb47ccdf6"
   },
   "outputs": [
    {
     "data": {
      "text/html": [
       "<div>\n",
       "<style scoped>\n",
       "    .dataframe tbody tr th:only-of-type {\n",
       "        vertical-align: middle;\n",
       "    }\n",
       "\n",
       "    .dataframe tbody tr th {\n",
       "        vertical-align: top;\n",
       "    }\n",
       "\n",
       "    .dataframe thead th {\n",
       "        text-align: right;\n",
       "    }\n",
       "</style>\n",
       "<table border=\"1\" class=\"dataframe\">\n",
       "  <thead>\n",
       "    <tr style=\"text-align: right;\">\n",
       "      <th></th>\n",
       "      <th>retail_price</th>\n",
       "      <th>units_sold</th>\n",
       "      <th>uses_ad_boosts</th>\n",
       "      <th>rating</th>\n",
       "      <th>rating_count</th>\n",
       "      <th>badges_count</th>\n",
       "      <th>badge_local_product</th>\n",
       "      <th>badge_product_quality</th>\n",
       "      <th>badge_fast_shipping</th>\n",
       "      <th>product_color</th>\n",
       "      <th>product_variation_size_id</th>\n",
       "      <th>product_variation_inventory</th>\n",
       "      <th>shipping_option_price</th>\n",
       "      <th>inventory_total</th>\n",
       "      <th>has_urgency_banner</th>\n",
       "      <th>merchant_rating_count</th>\n",
       "      <th>merchant_rating</th>\n",
       "      <th>merchant_has_profile_picture</th>\n",
       "      <th>from_CN</th>\n",
       "    </tr>\n",
       "  </thead>\n",
       "  <tbody>\n",
       "    <tr>\n",
       "      <th>0</th>\n",
       "      <td>7</td>\n",
       "      <td>high</td>\n",
       "      <td>0</td>\n",
       "      <td>4.14</td>\n",
       "      <td>2737</td>\n",
       "      <td>0</td>\n",
       "      <td>0</td>\n",
       "      <td>0</td>\n",
       "      <td>0</td>\n",
       "      <td>pink</td>\n",
       "      <td>S</td>\n",
       "      <td>50</td>\n",
       "      <td>3</td>\n",
       "      <td>50</td>\n",
       "      <td>1.0</td>\n",
       "      <td>68339</td>\n",
       "      <td>4.298746</td>\n",
       "      <td>0</td>\n",
       "      <td>1.0</td>\n",
       "    </tr>\n",
       "    <tr>\n",
       "      <th>1</th>\n",
       "      <td>31</td>\n",
       "      <td>high</td>\n",
       "      <td>0</td>\n",
       "      <td>4.09</td>\n",
       "      <td>2789</td>\n",
       "      <td>0</td>\n",
       "      <td>0</td>\n",
       "      <td>0</td>\n",
       "      <td>0</td>\n",
       "      <td>white</td>\n",
       "      <td>S</td>\n",
       "      <td>50</td>\n",
       "      <td>2</td>\n",
       "      <td>50</td>\n",
       "      <td>0.0</td>\n",
       "      <td>11596</td>\n",
       "      <td>4.280442</td>\n",
       "      <td>0</td>\n",
       "      <td>1.0</td>\n",
       "    </tr>\n",
       "    <tr>\n",
       "      <th>2</th>\n",
       "      <td>7</td>\n",
       "      <td>low</td>\n",
       "      <td>0</td>\n",
       "      <td>2.67</td>\n",
       "      <td>3</td>\n",
       "      <td>0</td>\n",
       "      <td>0</td>\n",
       "      <td>0</td>\n",
       "      <td>0</td>\n",
       "      <td>pink</td>\n",
       "      <td>S</td>\n",
       "      <td>46</td>\n",
       "      <td>2</td>\n",
       "      <td>50</td>\n",
       "      <td>1.0</td>\n",
       "      <td>1374</td>\n",
       "      <td>4.058952</td>\n",
       "      <td>0</td>\n",
       "      <td>1.0</td>\n",
       "    </tr>\n",
       "    <tr>\n",
       "      <th>3</th>\n",
       "      <td>14</td>\n",
       "      <td>medium</td>\n",
       "      <td>1</td>\n",
       "      <td>4.52</td>\n",
       "      <td>552</td>\n",
       "      <td>3</td>\n",
       "      <td>1</td>\n",
       "      <td>1</td>\n",
       "      <td>1</td>\n",
       "      <td>other</td>\n",
       "      <td>other</td>\n",
       "      <td>50</td>\n",
       "      <td>6</td>\n",
       "      <td>50</td>\n",
       "      <td>0.0</td>\n",
       "      <td>6033</td>\n",
       "      <td>4.254434</td>\n",
       "      <td>0</td>\n",
       "      <td>1.0</td>\n",
       "    </tr>\n",
       "    <tr>\n",
       "      <th>4</th>\n",
       "      <td>4</td>\n",
       "      <td>high</td>\n",
       "      <td>0</td>\n",
       "      <td>3.39</td>\n",
       "      <td>783</td>\n",
       "      <td>0</td>\n",
       "      <td>0</td>\n",
       "      <td>0</td>\n",
       "      <td>0</td>\n",
       "      <td>pink</td>\n",
       "      <td>S</td>\n",
       "      <td>7</td>\n",
       "      <td>1</td>\n",
       "      <td>50</td>\n",
       "      <td>0.0</td>\n",
       "      <td>32168</td>\n",
       "      <td>3.884544</td>\n",
       "      <td>0</td>\n",
       "      <td>1.0</td>\n",
       "    </tr>\n",
       "  </tbody>\n",
       "</table>\n",
       "</div>"
      ],
      "text/plain": [
       "   retail_price units_sold  uses_ad_boosts  rating  rating_count  \\\n",
       "0             7       high               0    4.14          2737   \n",
       "1            31       high               0    4.09          2789   \n",
       "2             7        low               0    2.67             3   \n",
       "3            14     medium               1    4.52           552   \n",
       "4             4       high               0    3.39           783   \n",
       "\n",
       "   badges_count  badge_local_product  badge_product_quality  \\\n",
       "0             0                    0                      0   \n",
       "1             0                    0                      0   \n",
       "2             0                    0                      0   \n",
       "3             3                    1                      1   \n",
       "4             0                    0                      0   \n",
       "\n",
       "   badge_fast_shipping product_color product_variation_size_id  \\\n",
       "0                    0          pink                         S   \n",
       "1                    0         white                         S   \n",
       "2                    0          pink                         S   \n",
       "3                    1         other                     other   \n",
       "4                    0          pink                         S   \n",
       "\n",
       "   product_variation_inventory  shipping_option_price  inventory_total  \\\n",
       "0                           50                      3               50   \n",
       "1                           50                      2               50   \n",
       "2                           46                      2               50   \n",
       "3                           50                      6               50   \n",
       "4                            7                      1               50   \n",
       "\n",
       "   has_urgency_banner  merchant_rating_count  merchant_rating  \\\n",
       "0                 1.0                  68339         4.298746   \n",
       "1                 0.0                  11596         4.280442   \n",
       "2                 1.0                   1374         4.058952   \n",
       "3                 0.0                   6033         4.254434   \n",
       "4                 0.0                  32168         3.884544   \n",
       "\n",
       "   merchant_has_profile_picture  from_CN  \n",
       "0                             0      1.0  \n",
       "1                             0      1.0  \n",
       "2                             0      1.0  \n",
       "3                             0      1.0  \n",
       "4                             0      1.0  "
      ]
     },
     "execution_count": 2,
     "metadata": {},
     "output_type": "execute_result"
    }
   ],
   "source": [
    "# Read in the data\n",
    "df = pd.read_csv('https://raw.githubusercontent.com/reidharris01/Lambda-Build-Week-Projects/master/wish_sales_data.csv')\n",
    "\n",
    "# Define a function that will clean any dataframe of this format.\n",
    "\n",
    "def wrangle(X):\n",
    "  # Drop columns with data we don't want to use\n",
    "  X.drop(['title_orig', 'currency_buyer', 'theme', 'crawl_month',\n",
    "           'countries_shipped_to','merchant_name',\n",
    "          'merchant_info_subtitle','merchant_id','merchant_profile_picture',\n",
    "          'product_url','product_picture','product_id','title',\n",
    "           'merchant_title','urgency_text','shipping_option_name',\n",
    "          'rating_one_count','rating_two_count','rating_three_count',\n",
    "          'rating_four_count','rating_five_count','shipping_is_express',\n",
    "          'price'],\n",
    "          axis=1,\n",
    "          inplace=True)\n",
    "  # We want 'has_urgency_banner' NaNs to be zeros\n",
    "  X.has_urgency_banner.replace({np.nan:0, 1.0:1},inplace=True)\n",
    "  # Remove messy string column 'tags'\n",
    "  X.drop(['tags'], axis=1, inplace=True)\n",
    "  # Make categories for units sold, as they're only in certain values now\n",
    "  for i in X.index:\n",
    "    if X.units_sold.iloc[i] <= 100:\n",
    "      X.units_sold.iloc[i] = 'low'\n",
    "    elif (100 < X.units_sold.iloc[i]) & (X.units_sold.iloc[i] <= 1000):\n",
    "      X.units_sold.iloc[i] = 'medium'\n",
    "    else:\n",
    "      X.units_sold.iloc[i] = 'high'\n",
    "\n",
    "  # Deal with sizes:\n",
    "\n",
    "  # Replace NaN's with 'none'\n",
    "  X.product_variation_size_id.replace({np.nan:'none'},inplace=True)\n",
    "  # Replace product_variation_size_id values with values from 3XS to 6XL, as\n",
    "  # well as 'other' and 'shoes'\n",
    "  X.product_variation_size_id.replace({\n",
    "    'Size-XS':'XS', 'M.':'M', 'S.':'S', 's':'S', 'choose a size':'none',\n",
    "    'XS.':'XS', '32/L':'L', 'XS.':'XS', 'Suit-S':'none', 'EU 35':'other',\n",
    "    '4':'other', 'Size S.':'S', '1m by 3m':'other',\n",
    "    'Size S':'S', '26(Waist 72cm 28inch)':'other', 'Size XXS':'2XS',\n",
    "    '29':'other', 'Women Size 36':'other', 'US 6.5 (EU 37)':'other',\n",
    "    'SIZE XS':'XS', '1pc':'none', '100 cm':'other', 'One Size':'onesize',\n",
    "    'SIZE-4XL':'4XL', '1':'none', 'S/M(child)':'2XS', '2pcs':'other',\n",
    "    'S..':'S', '30 cm':'other', 'XXS':'2XS', 'XXL':'2XL', 'XXXXXL':'5XL',\n",
    "    'XXXL':'3XL', 'XXXS':'3XS', 'XXXXL':'4XL', '33':'other', 'Size M':'M',\n",
    "    '100 x 100cm(39.3 x 39.3inch)':'other','100pcs':'none',\n",
    "    'SIZE XXS':'2XS','Base & Top & Matte Top Coat':'other','size S':'S',\n",
    "    '35':'other','34':'other','SIZE-XXS':'2XS','S(bust 88cm)':'S',\n",
    "    'S (waist58-62cm)':'S','S(Pink & Black)':'S','20pcs':'none','US-S':'S',\n",
    "    'Size -XXS':'2XS','X   L':'XL','25':'other','SizeL':'L','Size-S':'S',\n",
    "    'Round':'other','Pack of 1':'other','S Diameter 30cm':'S',\n",
    "    'AU plug Low quality':'other','5PAIRS':'other','25-S':'S','Size/S':'S',\n",
    "    'S Pink':'S','Size-5XL':'5XL','daughter 24M':'other','2':'other',\n",
    "    'Baby Float Boat':'other','10 ml':'other','60':'other',\n",
    "    'US5.5-EU35':'other','10pcs':'other','17':'other','Size-XXS':'2XS',\n",
    "    'Women Size 37':'other','3 layered anklet':'other','4-5 Years':'other',\n",
    "    'Size4XL':'4XL','first  generation':'other','80 X 200 CM':'other',\n",
    "    'EU39(US8)':'other','L.':'L','Base Coat':'other','36':'other',\n",
    "    '04-3XL':'3XL','pants-S':'S','Floating Chair for Kid':'other',\n",
    "    '20PCS-10PAIRS':'other','B':'other','Size--S':'S','5':'other',\n",
    "    '1 PC - XL':'XL','H01':'other','40 cm':'other','SIZE S':'S',\n",
    "    '1 pc.':'other','White':'other','Size-L':'L'},\n",
    "    inplace=True)\n",
    "  # Group together really large and really small items as well as 'other'\n",
    "  X.product_variation_size_id.replace({\n",
    "      '3XL':'3XL+','4XL':'3XL+','3XS':'2XS-','5XL':'3XL+','none':'other',\n",
    "      'onesize':'other','6XL':'3XL+','2XS':'2XS-'},inplace=True)\n",
    "  \n",
    "  # Deal with colors:\n",
    "\n",
    "  # Replace NaN's in product_color with 'other'\n",
    "  X.product_color.replace({np.nan:'other'},inplace=True)\n",
    "  # Reduce cardinality by manipulating strings:\n",
    "  # Replace a few of the more difficult ones first\n",
    "  X.product_color.replace({\n",
    "      'blackwhite':'multicolor','orange-red':'orange','rosegold':'pink',\n",
    "      'leopardprint':'multicolor','coffee':'brown','rose':'red',\n",
    "      'leopard':'multicolor','camouflage':'multicolor','apricot':'orange',\n",
    "      'navy':'blue','camel':'brown','burgundy':'purple','wine':'purple',\n",
    "      'army':'green','rainbow':'multicolor','gold':'other','jasper':'red',\n",
    "      'silver':'other','nude':'other','claret':'pink','ivory':'white',\n",
    "      'star':'other','violet':'purple','tan':'other'},inplace=True)\n",
    "  # If string has ampersand, or 'floral' in it, replace it with 'multicolor'\n",
    "  for i in X.index:\n",
    "    if ('&' in X.product_color.iloc[i]) | ('floral' in X.product_color.iloc[i]):\n",
    "      X.product_color.iloc[i] = 'multicolor'\n",
    "  # Remove instances of the word 'light'\n",
    "    elif 'light' in X.product_color.iloc[i]:\n",
    "      X.product_color.iloc[i] = X.product_color.iloc[i].replace('light','')\n",
    "    else:\n",
    "      pass\n",
    "  # Make an exhaustive list of colors\n",
    "  colors = ['red','orange','yellow','green','blue','purple','pink','brown',\n",
    "          'gray','black','white','multicolor','khaki','biege','other']\n",
    "  # Make all letters in each string lowercase\n",
    "  for i in X.index:\n",
    "    X.product_color.iloc[i] = X.product_color.iloc[i].lower()\n",
    "  # Deal with the items using the British spelling of 'grey'\n",
    "  X.product_color.replace({'grey':'gray','greysnakeskinprint':'gray'},\n",
    "                          inplace=True)\n",
    "  # If the string has 'blue' anywhere in it, then make it be just 'blue'\n",
    "  # and the same for every color\n",
    "  for i in X.index:\n",
    "    for x in colors:\n",
    "      if x in X.product_color.iloc[i]:\n",
    "        X.product_color.iloc[i] = x\n",
    "      else:\n",
    "        pass\n",
    "\n",
    "  # Deal with countries\n",
    "\n",
    "  # Most are China, and all those that aren't China have small values. So, we'll\n",
    "  # make a binary column indicating if it's Chinese and drop 'origin_country'\n",
    "  X['from_CN'] = X['rating'] # Creates the new column\n",
    "  for i in X.index:\n",
    "    if X.origin_country.iloc[i] == 'CN':\n",
    "      X.from_CN.iloc[i] = int(1)\n",
    "    else:\n",
    "      X.from_CN.iloc[i] = int(0)\n",
    "  X.drop('origin_country',axis=1,inplace=True)\n",
    "\n",
    "  # Remove sellers with fewer than \n",
    "\n",
    "  # Shuffle rows in case data is clumped by any certain feature\n",
    "  X = shuffle(X).reset_index(drop=True)\n",
    "\n",
    "  # Display cleaned DF head\n",
    "  return X.head()\n",
    "\n",
    "# Make copy of dataframe and clean it\n",
    "clean = df.copy()\n",
    "wrangle(clean)"
   ]
  },
  {
   "cell_type": "code",
   "execution_count": 3,
   "metadata": {
    "colab": {
     "base_uri": "https://localhost:8080/",
     "height": 223
    },
    "colab_type": "code",
    "executionInfo": {
     "elapsed": 326,
     "status": "ok",
     "timestamp": 1600289096127,
     "user": {
      "displayName": "Reid Harris",
      "photoUrl": "https://lh4.googleusercontent.com/-15Bp81cByjY/AAAAAAAAAAI/AAAAAAAAAQw/i48I--FQsz8/s64/photo.jpg",
      "userId": "15184149448048387025"
     },
     "user_tz": 360
    },
    "id": "dT9Py0NOo6Es",
    "outputId": "683873b0-bda7-4eac-a193-869d7221b098"
   },
   "outputs": [
    {
     "data": {
      "text/html": [
       "<div>\n",
       "<style scoped>\n",
       "    .dataframe tbody tr th:only-of-type {\n",
       "        vertical-align: middle;\n",
       "    }\n",
       "\n",
       "    .dataframe tbody tr th {\n",
       "        vertical-align: top;\n",
       "    }\n",
       "\n",
       "    .dataframe thead th {\n",
       "        text-align: right;\n",
       "    }\n",
       "</style>\n",
       "<table border=\"1\" class=\"dataframe\">\n",
       "  <thead>\n",
       "    <tr style=\"text-align: right;\">\n",
       "      <th></th>\n",
       "      <th>price</th>\n",
       "      <th>sales</th>\n",
       "      <th>ad_boost</th>\n",
       "      <th>product_rating</th>\n",
       "      <th>product_rating_count</th>\n",
       "      <th>badges_count</th>\n",
       "      <th>badge_local_product</th>\n",
       "      <th>badge_product_quality</th>\n",
       "      <th>badge_fast_shipping</th>\n",
       "      <th>color</th>\n",
       "      <th>size</th>\n",
       "      <th>variation_inventory</th>\n",
       "      <th>shipping_price</th>\n",
       "      <th>total_inventory</th>\n",
       "      <th>has_urgency_banner</th>\n",
       "      <th>merchant_rating_count</th>\n",
       "      <th>merchant_rating</th>\n",
       "      <th>profile_pic</th>\n",
       "      <th>from_CN</th>\n",
       "    </tr>\n",
       "  </thead>\n",
       "  <tbody>\n",
       "    <tr>\n",
       "      <th>0</th>\n",
       "      <td>14</td>\n",
       "      <td>low</td>\n",
       "      <td>0</td>\n",
       "      <td>3.76</td>\n",
       "      <td>54</td>\n",
       "      <td>0</td>\n",
       "      <td>0</td>\n",
       "      <td>0</td>\n",
       "      <td>0</td>\n",
       "      <td>white</td>\n",
       "      <td>M</td>\n",
       "      <td>50</td>\n",
       "      <td>4</td>\n",
       "      <td>50</td>\n",
       "      <td>1.0</td>\n",
       "      <td>568</td>\n",
       "      <td>4.128521</td>\n",
       "      <td>0</td>\n",
       "      <td>1.0</td>\n",
       "    </tr>\n",
       "    <tr>\n",
       "      <th>1</th>\n",
       "      <td>22</td>\n",
       "      <td>high</td>\n",
       "      <td>1</td>\n",
       "      <td>3.45</td>\n",
       "      <td>6135</td>\n",
       "      <td>0</td>\n",
       "      <td>0</td>\n",
       "      <td>0</td>\n",
       "      <td>0</td>\n",
       "      <td>green</td>\n",
       "      <td>XS</td>\n",
       "      <td>50</td>\n",
       "      <td>2</td>\n",
       "      <td>50</td>\n",
       "      <td>1.0</td>\n",
       "      <td>17752</td>\n",
       "      <td>3.899673</td>\n",
       "      <td>0</td>\n",
       "      <td>1.0</td>\n",
       "    </tr>\n",
       "    <tr>\n",
       "      <th>2</th>\n",
       "      <td>43</td>\n",
       "      <td>low</td>\n",
       "      <td>0</td>\n",
       "      <td>3.57</td>\n",
       "      <td>14</td>\n",
       "      <td>0</td>\n",
       "      <td>0</td>\n",
       "      <td>0</td>\n",
       "      <td>0</td>\n",
       "      <td>multicolor</td>\n",
       "      <td>XS</td>\n",
       "      <td>1</td>\n",
       "      <td>3</td>\n",
       "      <td>50</td>\n",
       "      <td>1.0</td>\n",
       "      <td>295</td>\n",
       "      <td>3.989831</td>\n",
       "      <td>0</td>\n",
       "      <td>1.0</td>\n",
       "    </tr>\n",
       "    <tr>\n",
       "      <th>3</th>\n",
       "      <td>8</td>\n",
       "      <td>high</td>\n",
       "      <td>1</td>\n",
       "      <td>4.03</td>\n",
       "      <td>579</td>\n",
       "      <td>0</td>\n",
       "      <td>0</td>\n",
       "      <td>0</td>\n",
       "      <td>0</td>\n",
       "      <td>black</td>\n",
       "      <td>M</td>\n",
       "      <td>50</td>\n",
       "      <td>2</td>\n",
       "      <td>50</td>\n",
       "      <td>0.0</td>\n",
       "      <td>23832</td>\n",
       "      <td>4.020435</td>\n",
       "      <td>0</td>\n",
       "      <td>1.0</td>\n",
       "    </tr>\n",
       "    <tr>\n",
       "      <th>4</th>\n",
       "      <td>3</td>\n",
       "      <td>low</td>\n",
       "      <td>1</td>\n",
       "      <td>3.10</td>\n",
       "      <td>20</td>\n",
       "      <td>0</td>\n",
       "      <td>0</td>\n",
       "      <td>0</td>\n",
       "      <td>0</td>\n",
       "      <td>yellow</td>\n",
       "      <td>S</td>\n",
       "      <td>1</td>\n",
       "      <td>1</td>\n",
       "      <td>50</td>\n",
       "      <td>1.0</td>\n",
       "      <td>14482</td>\n",
       "      <td>4.001588</td>\n",
       "      <td>0</td>\n",
       "      <td>1.0</td>\n",
       "    </tr>\n",
       "  </tbody>\n",
       "</table>\n",
       "</div>"
      ],
      "text/plain": [
       "   price sales  ad_boost  product_rating  product_rating_count  badges_count  \\\n",
       "0     14   low         0            3.76                    54             0   \n",
       "1     22  high         1            3.45                  6135             0   \n",
       "2     43   low         0            3.57                    14             0   \n",
       "3      8  high         1            4.03                   579             0   \n",
       "4      3   low         1            3.10                    20             0   \n",
       "\n",
       "   badge_local_product  badge_product_quality  badge_fast_shipping  \\\n",
       "0                    0                      0                    0   \n",
       "1                    0                      0                    0   \n",
       "2                    0                      0                    0   \n",
       "3                    0                      0                    0   \n",
       "4                    0                      0                    0   \n",
       "\n",
       "        color size  variation_inventory  shipping_price  total_inventory  \\\n",
       "0       white    M                   50               4               50   \n",
       "1       green   XS                   50               2               50   \n",
       "2  multicolor   XS                    1               3               50   \n",
       "3       black    M                   50               2               50   \n",
       "4      yellow    S                    1               1               50   \n",
       "\n",
       "   has_urgency_banner  merchant_rating_count  merchant_rating  profile_pic  \\\n",
       "0                 1.0                    568         4.128521            0   \n",
       "1                 1.0                  17752         3.899673            0   \n",
       "2                 1.0                    295         3.989831            0   \n",
       "3                 0.0                  23832         4.020435            0   \n",
       "4                 1.0                  14482         4.001588            0   \n",
       "\n",
       "   from_CN  \n",
       "0      1.0  \n",
       "1      1.0  \n",
       "2      1.0  \n",
       "3      1.0  \n",
       "4      1.0  "
      ]
     },
     "execution_count": 3,
     "metadata": {},
     "output_type": "execute_result"
    }
   ],
   "source": [
    "# Rename columns to be shorter/easier to type/remember\n",
    "clean.columns = ['price','sales','ad_boost','product_rating',\n",
    "                 'product_rating_count','badges_count','badge_local_product',\n",
    "                 'badge_product_quality',\n",
    "                 'badge_fast_shipping','color','size','variation_inventory',\n",
    "                 'shipping_price','total_inventory','has_urgency_banner',\n",
    "                 'merchant_rating_count','merchant_rating','profile_pic',\n",
    "                 'from_CN']\n",
    "clean.head()"
   ]
  },
  {
   "cell_type": "code",
   "execution_count": 4,
   "metadata": {
    "colab": {
     "base_uri": "https://localhost:8080/",
     "height": 516
    },
    "colab_type": "code",
    "executionInfo": {
     "elapsed": 439,
     "status": "ok",
     "timestamp": 1600289097673,
     "user": {
      "displayName": "Reid Harris",
      "photoUrl": "https://lh4.googleusercontent.com/-15Bp81cByjY/AAAAAAAAAAI/AAAAAAAAAQw/i48I--FQsz8/s64/photo.jpg",
      "userId": "15184149448048387025"
     },
     "user_tz": 360
    },
    "id": "m82rFwFzfA3u",
    "outputId": "d6dbca2b-397d-4713-84db-4ba11decf85b"
   },
   "outputs": [],
   "source": [
    "# Turn badge_product_quality, badge_local_product, and badge_fast_shipping\n",
    "# columns into one ordinally-encoded column\n",
    "\n",
    "# Create a new column with a column of the target data type\n",
    "clean['badges'] = clean.sales\n",
    "for i in clean.index:\n",
    "  if clean.badges_count.iloc[i] == 0:\n",
    "    clean['badges'].iloc[i] = 'none'\n",
    "  elif (clean.badge_local_product.iloc[i] == 1) & (clean.badge_fast_shipping.iloc[i] == 0) & (clean.badge_product_quality.iloc[i] == 0):\n",
    "    clean['badges'].iloc[i] = 'local'\n",
    "  elif (clean.badge_local_product.iloc[i] == 1) & (clean.badge_fast_shipping.iloc[i] == 0) & (clean.badge_product_quality.iloc[i] == 1):\n",
    "    clean['badges'].iloc[i] = 'local & quality'\n",
    "  elif (clean.badge_local_product.iloc[i]) == 1 & (clean.badge_fast_shipping.iloc[i] == 1) & (clean.badge_product_quality.iloc[i] == 0):\n",
    "    clean['badges'].iloc[i] = 'local & fast'\n",
    "  elif (clean.badge_local_product.iloc[i] == 1) & (clean.badge_fast_shipping.iloc[i] == 1) & (clean.badge_product_quality.iloc[i] == 1):\n",
    "    clean['badges'].iloc[i] = 'local, fast, & quality'\n",
    "  elif (clean.badge_local_product.iloc[i] == 0) & (clean.badge_fast_shipping.iloc[i] == 0) & (clean.badge_product_quality.iloc[i] == 1):\n",
    "    clean['badges'].iloc[i] = 'quality'\n",
    "  elif (clean.badge_local_product.iloc[i] == 0) & (clean.badge_fast_shipping.iloc[i] == 1) & (clean.badge_product_quality.iloc[i] == 0):\n",
    "    clean['badges'].iloc[i] = 'fast'\n",
    "  elif (clean.badge_local_product.iloc[i] == 0) & (clean.badge_fast_shipping.iloc[i] == 1) & (clean.badge_product_quality.iloc[i] == 1):\n",
    "    clean['badges'].iloc[i] = 'fast & quality'\n",
    "  else:\n",
    "    pass\n",
    "\n",
    "# Remove the one-hot encoded badge columns\n",
    "clean.drop(['badge_local_product','badge_fast_shipping',\n",
    "            'badge_product_quality','badges_count'], axis=1, inplace=True)"
   ]
  },
  {
   "cell_type": "code",
   "execution_count": 5,
   "metadata": {
    "colab": {},
    "colab_type": "code",
    "executionInfo": {
     "elapsed": 296,
     "status": "ok",
     "timestamp": 1600289120103,
     "user": {
      "displayName": "Reid Harris",
      "photoUrl": "https://lh4.googleusercontent.com/-15Bp81cByjY/AAAAAAAAAAI/AAAAAAAAAQw/i48I--FQsz8/s64/photo.jpg",
      "userId": "15184149448048387025"
     },
     "user_tz": 360
    },
    "id": "7Gk-mM0jpVbu"
   },
   "outputs": [
    {
     "data": {
      "text/html": [
       "<div>\n",
       "<style scoped>\n",
       "    .dataframe tbody tr th:only-of-type {\n",
       "        vertical-align: middle;\n",
       "    }\n",
       "\n",
       "    .dataframe tbody tr th {\n",
       "        vertical-align: top;\n",
       "    }\n",
       "\n",
       "    .dataframe thead th {\n",
       "        text-align: right;\n",
       "    }\n",
       "</style>\n",
       "<table border=\"1\" class=\"dataframe\">\n",
       "  <thead>\n",
       "    <tr style=\"text-align: right;\">\n",
       "      <th></th>\n",
       "      <th>price</th>\n",
       "      <th>sales</th>\n",
       "      <th>ad_boost</th>\n",
       "      <th>product_rating</th>\n",
       "      <th>color</th>\n",
       "      <th>size</th>\n",
       "      <th>shipping_price</th>\n",
       "      <th>has_urgency_banner</th>\n",
       "      <th>merchant_rating</th>\n",
       "      <th>profile_pic</th>\n",
       "      <th>from_CN</th>\n",
       "      <th>badges</th>\n",
       "    </tr>\n",
       "  </thead>\n",
       "  <tbody>\n",
       "    <tr>\n",
       "      <th>0</th>\n",
       "      <td>14</td>\n",
       "      <td>low</td>\n",
       "      <td>0</td>\n",
       "      <td>3.76</td>\n",
       "      <td>white</td>\n",
       "      <td>M</td>\n",
       "      <td>4</td>\n",
       "      <td>1.0</td>\n",
       "      <td>4.128521</td>\n",
       "      <td>0</td>\n",
       "      <td>1.0</td>\n",
       "      <td>none</td>\n",
       "    </tr>\n",
       "    <tr>\n",
       "      <th>1</th>\n",
       "      <td>22</td>\n",
       "      <td>high</td>\n",
       "      <td>1</td>\n",
       "      <td>3.45</td>\n",
       "      <td>green</td>\n",
       "      <td>XS</td>\n",
       "      <td>2</td>\n",
       "      <td>1.0</td>\n",
       "      <td>3.899673</td>\n",
       "      <td>0</td>\n",
       "      <td>1.0</td>\n",
       "      <td>none</td>\n",
       "    </tr>\n",
       "    <tr>\n",
       "      <th>2</th>\n",
       "      <td>43</td>\n",
       "      <td>low</td>\n",
       "      <td>0</td>\n",
       "      <td>3.57</td>\n",
       "      <td>multicolor</td>\n",
       "      <td>XS</td>\n",
       "      <td>3</td>\n",
       "      <td>1.0</td>\n",
       "      <td>3.989831</td>\n",
       "      <td>0</td>\n",
       "      <td>1.0</td>\n",
       "      <td>none</td>\n",
       "    </tr>\n",
       "    <tr>\n",
       "      <th>3</th>\n",
       "      <td>8</td>\n",
       "      <td>high</td>\n",
       "      <td>1</td>\n",
       "      <td>4.03</td>\n",
       "      <td>black</td>\n",
       "      <td>M</td>\n",
       "      <td>2</td>\n",
       "      <td>0.0</td>\n",
       "      <td>4.020435</td>\n",
       "      <td>0</td>\n",
       "      <td>1.0</td>\n",
       "      <td>none</td>\n",
       "    </tr>\n",
       "    <tr>\n",
       "      <th>4</th>\n",
       "      <td>3</td>\n",
       "      <td>low</td>\n",
       "      <td>1</td>\n",
       "      <td>3.10</td>\n",
       "      <td>yellow</td>\n",
       "      <td>S</td>\n",
       "      <td>1</td>\n",
       "      <td>1.0</td>\n",
       "      <td>4.001588</td>\n",
       "      <td>0</td>\n",
       "      <td>1.0</td>\n",
       "      <td>none</td>\n",
       "    </tr>\n",
       "  </tbody>\n",
       "</table>\n",
       "</div>"
      ],
      "text/plain": [
       "   price sales  ad_boost  product_rating       color size  shipping_price  \\\n",
       "0     14   low         0            3.76       white    M               4   \n",
       "1     22  high         1            3.45       green   XS               2   \n",
       "2     43   low         0            3.57  multicolor   XS               3   \n",
       "3      8  high         1            4.03       black    M               2   \n",
       "4      3   low         1            3.10      yellow    S               1   \n",
       "\n",
       "   has_urgency_banner  merchant_rating  profile_pic  from_CN badges  \n",
       "0                 1.0         4.128521            0      1.0   none  \n",
       "1                 1.0         3.899673            0      1.0   none  \n",
       "2                 1.0         3.989831            0      1.0   none  \n",
       "3                 0.0         4.020435            0      1.0   none  \n",
       "4                 1.0         4.001588            0      1.0   none  "
      ]
     },
     "execution_count": 5,
     "metadata": {},
     "output_type": "execute_result"
    }
   ],
   "source": [
    "# Define a function to remove leaky features\n",
    "def remove_leaky(X):\n",
    "  X.drop(['product_rating_count',\n",
    "          'merchant_rating_count',\n",
    "          'variation_inventory',\n",
    "          'total_inventory'],axis=1,inplace=True)\n",
    "  return X.head()\n",
    "\n",
    "# Apply the function\n",
    "remove_leaky(clean)"
   ]
  },
  {
   "cell_type": "code",
   "execution_count": 6,
   "metadata": {
    "colab": {},
    "colab_type": "code",
    "executionInfo": {
     "elapsed": 280,
     "status": "ok",
     "timestamp": 1600289149902,
     "user": {
      "displayName": "Reid Harris",
      "photoUrl": "https://lh4.googleusercontent.com/-15Bp81cByjY/AAAAAAAAAAI/AAAAAAAAAQw/i48I--FQsz8/s64/photo.jpg",
      "userId": "15184149448048387025"
     },
     "user_tz": 360
    },
    "id": "P8-QY7q-ecuh"
   },
   "outputs": [],
   "source": [
    "# Split it\n",
    "\n",
    "# 70% training, 15% validation, 15% test\n",
    "train_mask = (clean.index <= 0.7 * clean.shape[0])\n",
    "val_mask = (0.7 * clean.shape[0] < clean.index) & (clean.index <= 0.85 * clean.shape[0])\n",
    "test_mask = (0.85 * clean.shape[0] < clean.index)\n",
    "\n",
    "train = clean[train_mask]\n",
    "val = clean[val_mask]\n",
    "test = clean[test_mask]\n",
    "\n",
    "# Features from Targets\n",
    "X_train, y_train = train.drop('sales', axis=1), train.sales\n",
    "X_val, y_val = val.drop('sales', axis=1), val.sales\n",
    "X_test, y_test = test.drop('sales', axis=1), test.sales"
   ]
  },
  {
   "cell_type": "code",
   "execution_count": 7,
   "metadata": {
    "colab": {},
    "colab_type": "code",
    "executionInfo": {
     "elapsed": 279,
     "status": "ok",
     "timestamp": 1600289152200,
     "user": {
      "displayName": "Reid Harris",
      "photoUrl": "https://lh4.googleusercontent.com/-15Bp81cByjY/AAAAAAAAAAI/AAAAAAAAAQw/i48I--FQsz8/s64/photo.jpg",
      "userId": "15184149448048387025"
     },
     "user_tz": 360
    },
    "id": "54Banf8oecul"
   },
   "outputs": [],
   "source": [
    "# Make sure train/val/test are split correctly\n",
    "assert .69 < train.shape[0]/clean.shape[0] < .71\n",
    "assert .14 < val.shape[0]/clean.shape[0] < .16\n",
    "assert .14 < test.shape[0]/clean.shape[0] < .16"
   ]
  },
  {
   "cell_type": "code",
   "execution_count": 8,
   "metadata": {
    "colab": {},
    "colab_type": "code",
    "executionInfo": {
     "elapsed": 265,
     "status": "ok",
     "timestamp": 1600289152812,
     "user": {
      "displayName": "Reid Harris",
      "photoUrl": "https://lh4.googleusercontent.com/-15Bp81cByjY/AAAAAAAAAAI/AAAAAAAAAQw/i48I--FQsz8/s64/photo.jpg",
      "userId": "15184149448048387025"
     },
     "user_tz": 360
    },
    "id": "C9lOzEXfecun"
   },
   "outputs": [],
   "source": [
    "# Make sure splits didn't cause any NaNs to arise\n",
    "assert X_train.isnull().sum().sum() == 0\n",
    "assert X_val.isnull().sum().sum() == 0\n",
    "assert X_test.isnull().sum().sum() == 0"
   ]
  },
  {
   "cell_type": "code",
   "execution_count": 33,
   "metadata": {},
   "outputs": [
    {
     "data": {
      "text/plain": [
       "low       443\n",
       "high      374\n",
       "medium    285\n",
       "Name: sales, dtype: int64"
      ]
     },
     "execution_count": 33,
     "metadata": {},
     "output_type": "execute_result"
    }
   ],
   "source": [
    "y_train.value_counts()"
   ]
  },
  {
   "cell_type": "markdown",
   "metadata": {
    "colab_type": "text",
    "id": "Ye8NtXvRecuq"
   },
   "source": [
    "# Baseline"
   ]
  },
  {
   "cell_type": "code",
   "execution_count": 9,
   "metadata": {
    "colab": {
     "base_uri": "https://localhost:8080/",
     "height": 34
    },
    "colab_type": "code",
    "executionInfo": {
     "elapsed": 270,
     "status": "ok",
     "timestamp": 1600289156027,
     "user": {
      "displayName": "Reid Harris",
      "photoUrl": "https://lh4.googleusercontent.com/-15Bp81cByjY/AAAAAAAAAAI/AAAAAAAAAQw/i48I--FQsz8/s64/photo.jpg",
      "userId": "15184149448048387025"
     },
     "user_tz": 360
    },
    "id": "koCyddkZecur",
    "outputId": "468c993a-f05c-4a15-869c-b94836fea146"
   },
   "outputs": [
    {
     "name": "stdout",
     "output_type": "stream",
     "text": [
      "Baseline Accuracy: 0.40199637023593465\n"
     ]
    }
   ],
   "source": [
    "baseline = y_train.value_counts()[0] / y_train.value_counts().sum()\n",
    "print('Baseline Accuracy:', baseline)"
   ]
  },
  {
   "cell_type": "markdown",
   "metadata": {
    "colab_type": "text",
    "id": "gj9_xm_6ecuw"
   },
   "source": [
    "# Model"
   ]
  },
  {
   "cell_type": "code",
   "execution_count": 10,
   "metadata": {
    "colab": {
     "base_uri": "https://localhost:8080/",
     "height": 203
    },
    "colab_type": "code",
    "executionInfo": {
     "elapsed": 295,
     "status": "ok",
     "timestamp": 1600289163401,
     "user": {
      "displayName": "Reid Harris",
      "photoUrl": "https://lh4.googleusercontent.com/-15Bp81cByjY/AAAAAAAAAAI/AAAAAAAAAQw/i48I--FQsz8/s64/photo.jpg",
      "userId": "15184149448048387025"
     },
     "user_tz": 360
    },
    "id": "2OofJAK_eu9B",
    "outputId": "70149cf6-542f-41f9-aee9-23b8e463b362"
   },
   "outputs": [
    {
     "data": {
      "text/html": [
       "<div>\n",
       "<style scoped>\n",
       "    .dataframe tbody tr th:only-of-type {\n",
       "        vertical-align: middle;\n",
       "    }\n",
       "\n",
       "    .dataframe tbody tr th {\n",
       "        vertical-align: top;\n",
       "    }\n",
       "\n",
       "    .dataframe thead th {\n",
       "        text-align: right;\n",
       "    }\n",
       "</style>\n",
       "<table border=\"1\" class=\"dataframe\">\n",
       "  <thead>\n",
       "    <tr style=\"text-align: right;\">\n",
       "      <th></th>\n",
       "      <th>price</th>\n",
       "      <th>ad_boost</th>\n",
       "      <th>product_rating</th>\n",
       "      <th>color</th>\n",
       "      <th>size</th>\n",
       "      <th>shipping_price</th>\n",
       "      <th>has_urgency_banner</th>\n",
       "      <th>merchant_rating</th>\n",
       "      <th>profile_pic</th>\n",
       "      <th>from_CN</th>\n",
       "      <th>badges</th>\n",
       "    </tr>\n",
       "  </thead>\n",
       "  <tbody>\n",
       "    <tr>\n",
       "      <th>0</th>\n",
       "      <td>14</td>\n",
       "      <td>0</td>\n",
       "      <td>3.76</td>\n",
       "      <td>white</td>\n",
       "      <td>M</td>\n",
       "      <td>4</td>\n",
       "      <td>1.0</td>\n",
       "      <td>4.128521</td>\n",
       "      <td>0</td>\n",
       "      <td>1.0</td>\n",
       "      <td>none</td>\n",
       "    </tr>\n",
       "    <tr>\n",
       "      <th>1</th>\n",
       "      <td>22</td>\n",
       "      <td>1</td>\n",
       "      <td>3.45</td>\n",
       "      <td>green</td>\n",
       "      <td>XS</td>\n",
       "      <td>2</td>\n",
       "      <td>1.0</td>\n",
       "      <td>3.899673</td>\n",
       "      <td>0</td>\n",
       "      <td>1.0</td>\n",
       "      <td>none</td>\n",
       "    </tr>\n",
       "    <tr>\n",
       "      <th>2</th>\n",
       "      <td>43</td>\n",
       "      <td>0</td>\n",
       "      <td>3.57</td>\n",
       "      <td>multicolor</td>\n",
       "      <td>XS</td>\n",
       "      <td>3</td>\n",
       "      <td>1.0</td>\n",
       "      <td>3.989831</td>\n",
       "      <td>0</td>\n",
       "      <td>1.0</td>\n",
       "      <td>none</td>\n",
       "    </tr>\n",
       "    <tr>\n",
       "      <th>3</th>\n",
       "      <td>8</td>\n",
       "      <td>1</td>\n",
       "      <td>4.03</td>\n",
       "      <td>black</td>\n",
       "      <td>M</td>\n",
       "      <td>2</td>\n",
       "      <td>0.0</td>\n",
       "      <td>4.020435</td>\n",
       "      <td>0</td>\n",
       "      <td>1.0</td>\n",
       "      <td>none</td>\n",
       "    </tr>\n",
       "    <tr>\n",
       "      <th>4</th>\n",
       "      <td>3</td>\n",
       "      <td>1</td>\n",
       "      <td>3.10</td>\n",
       "      <td>yellow</td>\n",
       "      <td>S</td>\n",
       "      <td>1</td>\n",
       "      <td>1.0</td>\n",
       "      <td>4.001588</td>\n",
       "      <td>0</td>\n",
       "      <td>1.0</td>\n",
       "      <td>none</td>\n",
       "    </tr>\n",
       "  </tbody>\n",
       "</table>\n",
       "</div>"
      ],
      "text/plain": [
       "   price  ad_boost  product_rating       color size  shipping_price  \\\n",
       "0     14         0            3.76       white    M               4   \n",
       "1     22         1            3.45       green   XS               2   \n",
       "2     43         0            3.57  multicolor   XS               3   \n",
       "3      8         1            4.03       black    M               2   \n",
       "4      3         1            3.10      yellow    S               1   \n",
       "\n",
       "   has_urgency_banner  merchant_rating  profile_pic  from_CN badges  \n",
       "0                 1.0         4.128521            0      1.0   none  \n",
       "1                 1.0         3.899673            0      1.0   none  \n",
       "2                 1.0         3.989831            0      1.0   none  \n",
       "3                 0.0         4.020435            0      1.0   none  \n",
       "4                 1.0         4.001588            0      1.0   none  "
      ]
     },
     "execution_count": 10,
     "metadata": {},
     "output_type": "execute_result"
    }
   ],
   "source": [
    "X_train.head()"
   ]
  },
  {
   "cell_type": "code",
   "execution_count": 11,
   "metadata": {
    "colab": {
     "base_uri": "https://localhost:8080/",
     "height": 671
    },
    "colab_type": "code",
    "executionInfo": {
     "elapsed": 724,
     "status": "ok",
     "timestamp": 1600289403180,
     "user": {
      "displayName": "Reid Harris",
      "photoUrl": "https://lh4.googleusercontent.com/-15Bp81cByjY/AAAAAAAAAAI/AAAAAAAAAQw/i48I--FQsz8/s64/photo.jpg",
      "userId": "15184149448048387025"
     },
     "user_tz": 360
    },
    "id": "1U8MtPsDecuw",
    "outputId": "cae185f9-33b9-4eab-cc79-35a9c0eb2067"
   },
   "outputs": [],
   "source": [
    "# Define and fit model\n",
    "forest_clf = make_pipeline(OrdinalEncoder(),\n",
    "                      RandomForestClassifier())\n",
    "forest_clf.fit(X_train,y_train);\n",
    "\n",
    "# sklearn\n",
    "# category_encoders\n",
    "# joblib"
   ]
  },
  {
   "cell_type": "code",
   "execution_count": 12,
   "metadata": {},
   "outputs": [
    {
     "data": {
      "text/plain": [
       "['pipeline.joblib']"
      ]
     },
     "execution_count": 12,
     "metadata": {},
     "output_type": "execute_result"
    }
   ],
   "source": [
    "import joblib\n",
    "from joblib import dump\n",
    "\n",
    "dump(forest_clf, 'pipeline.joblib', compress=True)"
   ]
  },
  {
   "cell_type": "code",
   "execution_count": 13,
   "metadata": {},
   "outputs": [
    {
     "name": "stdout",
     "output_type": "stream",
     "text": [
      "scikit-learn==0.23.1\n",
      "category_encoders==2.2.2\n",
      "joblib==0.16.0\n"
     ]
    }
   ],
   "source": [
    "print(f'scikit-learn=={sklearn.__version__}')\n",
    "print(f'category_encoders=={ce.__version__}')\n",
    "print(f'joblib=={joblib.__version__}')"
   ]
  },
  {
   "cell_type": "code",
   "execution_count": 14,
   "metadata": {},
   "outputs": [
    {
     "data": {
      "text/plain": [
       "Index(['price', 'ad_boost', 'product_rating', 'color', 'size',\n",
       "       'shipping_price', 'has_urgency_banner', 'merchant_rating',\n",
       "       'profile_pic', 'from_CN', 'badges'],\n",
       "      dtype='object')"
      ]
     },
     "execution_count": 14,
     "metadata": {},
     "output_type": "execute_result"
    }
   ],
   "source": [
    "X_train.columns"
   ]
  },
  {
   "cell_type": "code",
   "execution_count": 15,
   "metadata": {},
   "outputs": [
    {
     "data": {
      "text/plain": [
       "black         211\n",
       "white         178\n",
       "blue          112\n",
       "red           103\n",
       "green          97\n",
       "pink           77\n",
       "yellow         75\n",
       "gray           66\n",
       "multicolor     56\n",
       "other          35\n",
       "purple         34\n",
       "orange         27\n",
       "brown          13\n",
       "beige          10\n",
       "khaki           8\n",
       "Name: color, dtype: int64"
      ]
     },
     "execution_count": 15,
     "metadata": {},
     "output_type": "execute_result"
    }
   ],
   "source": [
    "X_train['color'].value_counts()"
   ]
  },
  {
   "cell_type": "markdown",
   "metadata": {
    "colab_type": "text",
    "id": "uOx-Swstecuz"
   },
   "source": [
    "# Accuracy"
   ]
  },
  {
   "cell_type": "code",
   "execution_count": 16,
   "metadata": {
    "colab": {
     "base_uri": "https://localhost:8080/",
     "height": 51
    },
    "colab_type": "code",
    "executionInfo": {
     "elapsed": 337,
     "status": "ok",
     "timestamp": 1600289412134,
     "user": {
      "displayName": "Reid Harris",
      "photoUrl": "https://lh4.googleusercontent.com/-15Bp81cByjY/AAAAAAAAAAI/AAAAAAAAAQw/i48I--FQsz8/s64/photo.jpg",
      "userId": "15184149448048387025"
     },
     "user_tz": 360
    },
    "id": "ptjPc_ycecuz",
    "outputId": "1bd6a857-8f5c-436a-e924-42a2ff9cf21f"
   },
   "outputs": [
    {
     "name": "stdout",
     "output_type": "stream",
     "text": [
      "Training Accuracy: 1.0\n",
      "Validation Accuracy: 0.5677966101694916\n"
     ]
    }
   ],
   "source": [
    "print('Training Accuracy:', forest_clf.score(X_train,y_train))\n",
    "print('Validation Accuracy:', forest_clf.score(X_val,y_val))"
   ]
  },
  {
   "cell_type": "markdown",
   "metadata": {},
   "source": [
    "# Feature Importances"
   ]
  },
  {
   "cell_type": "code",
   "execution_count": 17,
   "metadata": {
    "colab": {
     "base_uri": "https://localhost:8080/",
     "height": 531
    },
    "colab_type": "code",
    "executionInfo": {
     "elapsed": 565,
     "status": "ok",
     "timestamp": 1600289722913,
     "user": {
      "displayName": "Reid Harris",
      "photoUrl": "https://lh4.googleusercontent.com/-15Bp81cByjY/AAAAAAAAAAI/AAAAAAAAAQw/i48I--FQsz8/s64/photo.jpg",
      "userId": "15184149448048387025"
     },
     "user_tz": 360
    },
    "id": "jfRNts4-r_cb",
    "outputId": "c8737faa-0522-4519-c2c2-3c3d93905a62"
   },
   "outputs": [
    {
     "data": {
      "image/png": "[encoded data removed]",
      "text/plain": [
       "<Figure size 432x288 with 1 Axes>"
      ]
     },
     "metadata": {},
     "output_type": "display_data"
    }
   ],
   "source": [
    "# Gets feature importances\n",
    "importances = pd.Series(\n",
    "    forest_clf.named_steps['randomforestclassifier'].feature_importances_,\n",
    "    index=X_train.columns\n",
    "    )\n",
    "# Plots feature importances from most important to least\n",
    "plt.figure(figsize=(6,4), facecolor='white')\n",
    "plt.axvline(0.05,color='red')\n",
    "plt.title('Feature Importances',size=30,weight='bold')\n",
    "plt.ylabel('Features',size=15,weight='bold')\n",
    "plt.xlabel('Percentage',size=15,weight='bold')\n",
    "importances.sort_values().plot(kind='barh')\n",
    "plt.show()"
   ]
  },
  {
   "cell_type": "markdown",
   "metadata": {
    "colab_type": "text",
    "id": "nhgLwlz2Bzh3"
   },
   "source": [
    "### <font color='hotpink' face='Comic Sans MS'> **A few observations:**\n",
    "\n",
    "<font color='hotpink' face='Comic Sans MS'> 1) Product rating and merchant rating are way above the non-price features.  Wish is known for having very, very low prices, so customer reviews grant assurance to people who are skeptical about shopping on a website with extreme discounts.\n",
    "\n",
    "<font color='hotpink' face='Comic Sans MS'> 2) Whether or not the seller has taken 30 seconds to upload a profile picture is more predictive than if they have any badges.  You might think that badges identifying local products, fast shipping, high product quality, etc. would be more influential, but it appears that the simple presence of the seller's profile picture is more important.  Perhaps this is a psychological thing tied in with # 1.  Actually seeing the person you're buying from might offer a sort of subconscious trust.  Might be a stretch, but I could see it...\n",
    "\n",
    "<font color='hotpink' face='Comic Sans MS'> 3) Price and shipping price are highly predictive - no surprise there.\n",
    "\n",
    "<font color='hotpink' face='Comic Sans MS'> 4) It seems that having an ad-booster influences sales volume, albeit slightly.  If a seller wants to sell a lot, assuming the ad-boosting price is reasonable, then they should consider invensting in ad-bosters.\n",
    "\n",
    "<font color='hotpink' face='Comic Sans MS'> 5) Origin country didn't seem to matter.  I wonder if this is visible to the buyer at the time of purchase or if the consumer truly doesn't care how far the product must travel and, in turn, how long the item may take to arrive."
   ]
  },
  {
   "cell_type": "markdown",
   "metadata": {},
   "source": [
    "# Permutation Importance"
   ]
  },
  {
   "cell_type": "code",
   "execution_count": 18,
   "metadata": {},
   "outputs": [],
   "source": [
    "# Define a function that will report permutation importances for each\n",
    "perm_difs = {}\n",
    "def perm_importances(X,y):\n",
    "    # Iterate through every column/feature\n",
    "    for col in X.columns:\n",
    "        feature = col\n",
    "        # Make copy\n",
    "        X_val_permuted = X_val.copy()\n",
    "        # Permute\n",
    "        X_val_permuted[feature] = np.random.permutation(X_val[feature])\n",
    "        # Assign accuracy scores to variables\n",
    "        val_acc = forest_clf.score(X_val, y_val)\n",
    "        perm_val_acc = forest_clf.score(X_val_permuted, y_val)\n",
    "        # Print results\n",
    "        print(feature.upper(),'\\n')\n",
    "        print('Validation Accuracy:', round(val_acc,3))\n",
    "        print('Permuted Validation Accuracy:', round(perm_val_acc,3))\n",
    "        print('Permuted Accuracy Difference:', round(val_acc - perm_val_acc,3),'\\n\\n')\n",
    "        perm_difs[col] = round(val_acc - perm_val_acc,10)\n",
    "    # Print out the feature and the difference its permutation made on the model in descending order\n",
    "    sorted_perm_difs = {k:v for k,v in sorted(perm_difs.items(), key=lambda item: item[1], reverse=True)}\n",
    "    for key,value in sorted_perm_difs.items():\n",
    "        print(key,value)"
   ]
  },
  {
   "cell_type": "code",
   "execution_count": 19,
   "metadata": {},
   "outputs": [
    {
     "name": "stdout",
     "output_type": "stream",
     "text": [
      "PRICE \n",
      "\n",
      "Validation Accuracy: 0.568\n",
      "Permuted Validation Accuracy: 0.572\n",
      "Permuted Accuracy Difference: -0.004 \n",
      "\n",
      "\n",
      "AD_BOOST \n",
      "\n",
      "Validation Accuracy: 0.568\n",
      "Permuted Validation Accuracy: 0.538\n",
      "Permuted Accuracy Difference: 0.03 \n",
      "\n",
      "\n",
      "PRODUCT_RATING \n",
      "\n",
      "Validation Accuracy: 0.568\n",
      "Permuted Validation Accuracy: 0.504\n",
      "Permuted Accuracy Difference: 0.064 \n",
      "\n",
      "\n",
      "COLOR \n",
      "\n",
      "Validation Accuracy: 0.568\n",
      "Permuted Validation Accuracy: 0.572\n",
      "Permuted Accuracy Difference: -0.004 \n",
      "\n",
      "\n",
      "SIZE \n",
      "\n",
      "Validation Accuracy: 0.568\n",
      "Permuted Validation Accuracy: 0.538\n",
      "Permuted Accuracy Difference: 0.03 \n",
      "\n",
      "\n",
      "SHIPPING_PRICE \n",
      "\n",
      "Validation Accuracy: 0.568\n",
      "Permuted Validation Accuracy: 0.581\n",
      "Permuted Accuracy Difference: -0.013 \n",
      "\n",
      "\n",
      "HAS_URGENCY_BANNER \n",
      "\n",
      "Validation Accuracy: 0.568\n",
      "Permuted Validation Accuracy: 0.568\n",
      "Permuted Accuracy Difference: 0.0 \n",
      "\n",
      "\n",
      "MERCHANT_RATING \n",
      "\n",
      "Validation Accuracy: 0.568\n",
      "Permuted Validation Accuracy: 0.53\n",
      "Permuted Accuracy Difference: 0.038 \n",
      "\n",
      "\n",
      "PROFILE_PIC \n",
      "\n",
      "Validation Accuracy: 0.568\n",
      "Permuted Validation Accuracy: 0.568\n",
      "Permuted Accuracy Difference: 0.0 \n",
      "\n",
      "\n",
      "FROM_CN \n",
      "\n",
      "Validation Accuracy: 0.568\n",
      "Permuted Validation Accuracy: 0.568\n",
      "Permuted Accuracy Difference: 0.0 \n",
      "\n",
      "\n",
      "BADGES \n",
      "\n",
      "Validation Accuracy: 0.568\n",
      "Permuted Validation Accuracy: 0.559\n",
      "Permuted Accuracy Difference: 0.008 \n",
      "\n",
      "\n",
      "product_rating 0.063559322\n",
      "merchant_rating 0.0381355932\n",
      "ad_boost 0.0296610169\n",
      "size 0.0296610169\n",
      "badges 0.0084745763\n",
      "has_urgency_banner 0.0\n",
      "profile_pic 0.0\n",
      "from_CN 0.0\n",
      "price -0.0042372881\n",
      "color -0.0042372881\n",
      "shipping_price -0.0127118644\n"
     ]
    }
   ],
   "source": [
    "# Get the importances\n",
    "perm_importances(X_val,y_val)"
   ]
  },
  {
   "cell_type": "code",
   "execution_count": 20,
   "metadata": {},
   "outputs": [],
   "source": [
    "perm_difs_df = pd.DataFrame(perm_difs.keys())"
   ]
  },
  {
   "cell_type": "code",
   "execution_count": 21,
   "metadata": {},
   "outputs": [],
   "source": [
    "perm_difs_df.columns = ['feature']\n",
    "perm_difs_df['permutation_importance'] = perm_difs.values()"
   ]
  },
  {
   "cell_type": "code",
   "execution_count": 22,
   "metadata": {},
   "outputs": [
    {
     "data": {
      "text/html": [
       "<div>\n",
       "<style scoped>\n",
       "    .dataframe tbody tr th:only-of-type {\n",
       "        vertical-align: middle;\n",
       "    }\n",
       "\n",
       "    .dataframe tbody tr th {\n",
       "        vertical-align: top;\n",
       "    }\n",
       "\n",
       "    .dataframe thead th {\n",
       "        text-align: right;\n",
       "    }\n",
       "</style>\n",
       "<table border=\"1\" class=\"dataframe\">\n",
       "  <thead>\n",
       "    <tr style=\"text-align: right;\">\n",
       "      <th></th>\n",
       "      <th>feature</th>\n",
       "      <th>permutation_importance</th>\n",
       "    </tr>\n",
       "  </thead>\n",
       "  <tbody>\n",
       "    <tr>\n",
       "      <th>0</th>\n",
       "      <td>shipping_price</td>\n",
       "      <td>-0.012712</td>\n",
       "    </tr>\n",
       "    <tr>\n",
       "      <th>1</th>\n",
       "      <td>price</td>\n",
       "      <td>-0.004237</td>\n",
       "    </tr>\n",
       "    <tr>\n",
       "      <th>2</th>\n",
       "      <td>color</td>\n",
       "      <td>-0.004237</td>\n",
       "    </tr>\n",
       "    <tr>\n",
       "      <th>3</th>\n",
       "      <td>has_urgency_banner</td>\n",
       "      <td>0.000000</td>\n",
       "    </tr>\n",
       "    <tr>\n",
       "      <th>4</th>\n",
       "      <td>profile_pic</td>\n",
       "      <td>0.000000</td>\n",
       "    </tr>\n",
       "    <tr>\n",
       "      <th>5</th>\n",
       "      <td>from_CN</td>\n",
       "      <td>0.000000</td>\n",
       "    </tr>\n",
       "    <tr>\n",
       "      <th>6</th>\n",
       "      <td>badges</td>\n",
       "      <td>0.008475</td>\n",
       "    </tr>\n",
       "    <tr>\n",
       "      <th>7</th>\n",
       "      <td>ad_boost</td>\n",
       "      <td>0.029661</td>\n",
       "    </tr>\n",
       "    <tr>\n",
       "      <th>8</th>\n",
       "      <td>size</td>\n",
       "      <td>0.029661</td>\n",
       "    </tr>\n",
       "    <tr>\n",
       "      <th>9</th>\n",
       "      <td>merchant_rating</td>\n",
       "      <td>0.038136</td>\n",
       "    </tr>\n",
       "    <tr>\n",
       "      <th>10</th>\n",
       "      <td>product_rating</td>\n",
       "      <td>0.063559</td>\n",
       "    </tr>\n",
       "  </tbody>\n",
       "</table>\n",
       "</div>"
      ],
      "text/plain": [
       "               feature  permutation_importance\n",
       "0       shipping_price               -0.012712\n",
       "1                price               -0.004237\n",
       "2                color               -0.004237\n",
       "3   has_urgency_banner                0.000000\n",
       "4          profile_pic                0.000000\n",
       "5              from_CN                0.000000\n",
       "6               badges                0.008475\n",
       "7             ad_boost                0.029661\n",
       "8                 size                0.029661\n",
       "9      merchant_rating                0.038136\n",
       "10      product_rating                0.063559"
      ]
     },
     "execution_count": 22,
     "metadata": {},
     "output_type": "execute_result"
    }
   ],
   "source": [
    "# Sort by permutation importance\n",
    "perm_difs_df.sort_values('permutation_importance',inplace=True)\n",
    "perm_difs_df.reset_index(drop=True)"
   ]
  },
  {
   "cell_type": "code",
   "execution_count": 23,
   "metadata": {},
   "outputs": [
    {
     "data": {
      "image/png": "[encoded data removed]",
      "text/plain": [
       "<Figure size 432x288 with 1 Axes>"
      ]
     },
     "metadata": {
      "needs_background": "light"
     },
     "output_type": "display_data"
    }
   ],
   "source": [
    "plt.barh(perm_difs_df.feature[-9:], perm_difs_df.permutation_importance[-9:])\n",
    "plt.title('Permutation Importances',size=18,weight='bold')\n",
    "\n",
    "plt.show()"
   ]
  },
  {
   "cell_type": "markdown",
   "metadata": {},
   "source": [
    "# Gradient Boosting"
   ]
  },
  {
   "cell_type": "code",
   "execution_count": 24,
   "metadata": {},
   "outputs": [
    {
     "name": "stdout",
     "output_type": "stream",
     "text": [
      "Training Accuracy: 0.5862068965517241\n",
      "Validation Accuracy: 0.538135593220339\n"
     ]
    }
   ],
   "source": [
    "# Adaptive\n",
    "\n",
    "ada_clf = make_pipeline(OrdinalEncoder(),\n",
    "                        AdaBoostClassifier(n_estimators = 60,\n",
    "                                           learning_rate = 0.5,\n",
    "                                           random_state=42)\n",
    "                        )\n",
    "ada_clf.fit(X_train,y_train)\n",
    "\n",
    "print('Training Accuracy:', ada_clf.score(X_train,y_train))\n",
    "print('Validation Accuracy:', ada_clf.score(X_val,y_val))"
   ]
  },
  {
   "cell_type": "code",
   "execution_count": 25,
   "metadata": {},
   "outputs": [
    {
     "name": "stdout",
     "output_type": "stream",
     "text": [
      "Training Accuracy: 0.9682395644283122\n",
      "Validation Accuracy: XGBoost 0.538135593220339\n"
     ]
    }
   ],
   "source": [
    "# Gradient\n",
    "\n",
    "xg_clf = make_pipeline(OrdinalEncoder(),\n",
    "                       XGBClassifier(n_estimators=50, learning_rate = .26, random_state=42)\n",
    "                      )\n",
    "\n",
    "xg_clf.fit(X_train,y_train)\n",
    "\n",
    "print('Training Accuracy:', xg_clf.score(X_train,y_train))\n",
    "print('Validation Accuracy: XGBoost', xg_clf.score(X_val, y_val))"
   ]
  },
  {
   "cell_type": "markdown",
   "metadata": {},
   "source": [
    "<font color='hotpink' face='Comic Sans MS'> GXBoost and AdaBoost both hurt my model, even after I played with the learning rate, n_estimators, etc.  Maybe because I have too small a dataset?"
   ]
  },
  {
   "cell_type": "code",
   "execution_count": 26,
   "metadata": {},
   "outputs": [
    {
     "name": "stdout",
     "output_type": "stream",
     "text": [
      "Random Forest\n",
      "              precision    recall  f1-score   support\n",
      "\n",
      "        high       0.44      0.62      0.52        63\n",
      "         low       0.73      0.65      0.69       113\n",
      "      medium       0.46      0.37      0.41        60\n",
      "\n",
      "    accuracy                           0.57       236\n",
      "   macro avg       0.54      0.54      0.54       236\n",
      "weighted avg       0.58      0.57      0.57       236\n",
      "\n"
     ]
    }
   ],
   "source": [
    "print('Random Forest')\n",
    "print(classification_report(y_val, forest_clf.predict(X_val)))"
   ]
  },
  {
   "cell_type": "code",
   "execution_count": 27,
   "metadata": {},
   "outputs": [
    {
     "data": {
      "image/png": "[encoded data removed]",
      "text/plain": [
       "<Figure size 432x288 with 2 Axes>"
      ]
     },
     "metadata": {
      "needs_background": "light"
     },
     "output_type": "display_data"
    }
   ],
   "source": [
    "plot_confusion_matrix(forest_clf, X_val, y_val, cmap=plt.cm.Blues, normalize='true')\n",
    "plt.title('Sales Volume Prediction Accuracies',fontname='Calibri',size=20,weight='bold')\n",
    "plt.xlabel(\"\\nSales Volume Prediction\",fontname='Calibri',size=14,weight='bold')\n",
    "plt.ylabel(\"True Sales Volume\",fontname='Calibri',size=14,weight='bold')\n",
    "plt.show()"
   ]
  },
  {
   "cell_type": "code",
   "execution_count": 28,
   "metadata": {},
   "outputs": [],
   "source": [
    "# Make a function that will ordinally encode data in each feature matrix\n",
    "\n",
    "def ordinal_encode(X):\n",
    "    encoder = OrdinalEncoder()\n",
    "    X = encoder.fit_transform(X)"
   ]
  },
  {
   "cell_type": "code",
   "execution_count": 29,
   "metadata": {},
   "outputs": [],
   "source": [
    "ordinal_encode(X_train)\n",
    "ordinal_encode(X_val)\n",
    "ordinal_encode(X_test)"
   ]
  },
  {
   "cell_type": "code",
   "execution_count": 30,
   "metadata": {},
   "outputs": [
    {
     "data": {
      "text/html": [
       "<div>\n",
       "<style scoped>\n",
       "    .dataframe tbody tr th:only-of-type {\n",
       "        vertical-align: middle;\n",
       "    }\n",
       "\n",
       "    .dataframe tbody tr th {\n",
       "        vertical-align: top;\n",
       "    }\n",
       "\n",
       "    .dataframe thead th {\n",
       "        text-align: right;\n",
       "    }\n",
       "</style>\n",
       "<table border=\"1\" class=\"dataframe\">\n",
       "  <thead>\n",
       "    <tr style=\"text-align: right;\">\n",
       "      <th></th>\n",
       "      <th>price</th>\n",
       "      <th>ad_boost</th>\n",
       "      <th>product_rating</th>\n",
       "      <th>color</th>\n",
       "      <th>size</th>\n",
       "      <th>shipping_price</th>\n",
       "      <th>has_urgency_banner</th>\n",
       "      <th>merchant_rating</th>\n",
       "      <th>profile_pic</th>\n",
       "      <th>from_CN</th>\n",
       "      <th>badges</th>\n",
       "    </tr>\n",
       "  </thead>\n",
       "  <tbody>\n",
       "    <tr>\n",
       "      <th>0</th>\n",
       "      <td>14</td>\n",
       "      <td>0</td>\n",
       "      <td>3.76</td>\n",
       "      <td>1</td>\n",
       "      <td>1</td>\n",
       "      <td>4</td>\n",
       "      <td>1.0</td>\n",
       "      <td>4.128521</td>\n",
       "      <td>0</td>\n",
       "      <td>1.0</td>\n",
       "      <td>1</td>\n",
       "    </tr>\n",
       "    <tr>\n",
       "      <th>1</th>\n",
       "      <td>22</td>\n",
       "      <td>1</td>\n",
       "      <td>3.45</td>\n",
       "      <td>2</td>\n",
       "      <td>2</td>\n",
       "      <td>2</td>\n",
       "      <td>1.0</td>\n",
       "      <td>3.899673</td>\n",
       "      <td>0</td>\n",
       "      <td>1.0</td>\n",
       "      <td>1</td>\n",
       "    </tr>\n",
       "    <tr>\n",
       "      <th>2</th>\n",
       "      <td>43</td>\n",
       "      <td>0</td>\n",
       "      <td>3.57</td>\n",
       "      <td>3</td>\n",
       "      <td>2</td>\n",
       "      <td>3</td>\n",
       "      <td>1.0</td>\n",
       "      <td>3.989831</td>\n",
       "      <td>0</td>\n",
       "      <td>1.0</td>\n",
       "      <td>1</td>\n",
       "    </tr>\n",
       "    <tr>\n",
       "      <th>3</th>\n",
       "      <td>8</td>\n",
       "      <td>1</td>\n",
       "      <td>4.03</td>\n",
       "      <td>4</td>\n",
       "      <td>1</td>\n",
       "      <td>2</td>\n",
       "      <td>0.0</td>\n",
       "      <td>4.020435</td>\n",
       "      <td>0</td>\n",
       "      <td>1.0</td>\n",
       "      <td>1</td>\n",
       "    </tr>\n",
       "    <tr>\n",
       "      <th>4</th>\n",
       "      <td>3</td>\n",
       "      <td>1</td>\n",
       "      <td>3.10</td>\n",
       "      <td>5</td>\n",
       "      <td>3</td>\n",
       "      <td>1</td>\n",
       "      <td>1.0</td>\n",
       "      <td>4.001588</td>\n",
       "      <td>0</td>\n",
       "      <td>1.0</td>\n",
       "      <td>1</td>\n",
       "    </tr>\n",
       "  </tbody>\n",
       "</table>\n",
       "</div>"
      ],
      "text/plain": [
       "   price  ad_boost  product_rating  color  size  shipping_price  \\\n",
       "0     14         0            3.76      1     1               4   \n",
       "1     22         1            3.45      2     2               2   \n",
       "2     43         0            3.57      3     2               3   \n",
       "3      8         1            4.03      4     1               2   \n",
       "4      3         1            3.10      5     3               1   \n",
       "\n",
       "   has_urgency_banner  merchant_rating  profile_pic  from_CN  badges  \n",
       "0                 1.0         4.128521            0      1.0       1  \n",
       "1                 1.0         3.899673            0      1.0       1  \n",
       "2                 1.0         3.989831            0      1.0       1  \n",
       "3                 0.0         4.020435            0      1.0       1  \n",
       "4                 1.0         4.001588            0      1.0       1  "
      ]
     },
     "execution_count": 30,
     "metadata": {},
     "output_type": "execute_result"
    }
   ],
   "source": [
    "encoder = OrdinalEncoder()\n",
    "X_train = encoder.fit_transform(X_train)\n",
    "X_val = encoder.fit_transform(X_val)\n",
    "X_test = encoder.fit_transform(X_test)\n",
    "X_train.head()"
   ]
  },
  {
   "cell_type": "code",
   "execution_count": 31,
   "metadata": {},
   "outputs": [
    {
     "name": "stdout",
     "output_type": "stream",
     "text": [
      "Training Accuracy: 1.0\n",
      "Validation Accuracy: 0.5932203389830508\n"
     ]
    }
   ],
   "source": [
    "forest_clf = RandomForestClassifier()\n",
    "forest_clf.fit(X_train,y_train)\n",
    "print('Training Accuracy:', forest_clf.score(X_train,y_train))\n",
    "print('Validation Accuracy:', forest_clf.score(X_val,y_val))"
   ]
  },
  {
   "cell_type": "code",
   "execution_count": 32,
   "metadata": {},
   "outputs": [
    {
     "data": {
      "image/png": "[encoded data removed]",
      "text/plain": [
       "<Figure size 432x288 with 2 Axes>"
      ]
     },
     "metadata": {
      "needs_background": "light"
     },
     "output_type": "display_data"
    }
   ],
   "source": [
    "fig = plt.figure()\n",
    "\n",
    "features = ('product_rating', 'merchant_rating')\n",
    "pdp, axes = partial_dependence(forest_clf, X_train, features=features,\n",
    "                               grid_resolution=20)\n",
    "XX, YY = np.meshgrid(axes[0], axes[1])\n",
    "Z = pdp[0].T\n",
    "ax = Axes3D(fig)\n",
    "surf = ax.plot_surface(XX, YY, Z, rstride=1, cstride=1,\n",
    "                       cmap=plt.cm.Blues, edgecolor='k')\n",
    "ax.set_xlabel('Product Rating',fontname='Calibri',size=16,weight='bold')\n",
    "ax.set_ylabel('Merchant Rating',fontname='Calibri',size=16,weight='bold')\n",
    "ax.set_zlabel('Partial Dependence',fontname='Calibri',size=16,weight='bold', rotation=90)\n",
    "#  Best angle\n",
    "ax.view_init(elev=22, azim=195)\n",
    "plt.colorbar(surf)\n",
    "plt.title('Relationship Between Product Rating\\nand Merchant Rating',\n",
    "         fontname='Calibri',size=20,weight='bold')\n",
    "plt.subplots_adjust(top=0.9)\n",
    "\n",
    "plt.show()"
   ]
  }
 ],
 "metadata": {
  "kernelspec": {
   "display_name": "Python 3",
   "language": "python",
   "name": "python3"
  },
  "language_info": {
   "codemirror_mode": {
    "name": "ipython",
    "version": 3
   },
   "file_extension": ".py",
   "mimetype": "text/x-python",
   "name": "python",
   "nbconvert_exporter": "python",
   "pygments_lexer": "ipython3",
   "version": "3.8.3"
  }
 },
 "nbformat": 4,
 "nbformat_minor": 4
}
